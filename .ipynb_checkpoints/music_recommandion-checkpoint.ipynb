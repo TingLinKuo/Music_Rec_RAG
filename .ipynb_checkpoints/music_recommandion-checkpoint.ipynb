{
 "cells": [
  {
   "cell_type": "code",
   "execution_count": 4,
   "metadata": {},
   "outputs": [],
   "source": [
    "from dotenv import load_dotenv\n",
    "load_dotenv()\n",
    "\n",
    "from multimodal_lancedb import MusicDatabase\n",
    "from utils import EmbeddingProcessor, MusicSearchSystem\n",
    "from IPython.display import Audio, display\n",
    "import os"
   ]
  },
  {
   "cell_type": "code",
   "execution_count": null,
   "metadata": {},
   "outputs": [],
   "source": [
    "# 初始化系統\n",
    "search_system = MusicSearchSystem(db_path=\"./.lancedb\", music_dir=\"music\")\n",
    "search_system.import_text_descriptions(\"music_metadata.csv\", process_audio=True)"
   ]
  },
  {
   "cell_type": "code",
   "execution_count": null,
   "metadata": {},
   "outputs": [],
   "source": [
    "# 搜尋音樂\n",
    "results = search_system.search_music(\"輕快的夏日音樂\", top_k=5)\n",
    "\n",
    "# 播放音樂\n",
    "\n",
    "print(\"\\n可播放的音樂：\")\n",
    "for audio_path in results['audio_paths']:\n",
    "    print(f\"\\n正在播放: {os.path.basename(audio_path)}\")\n",
    "    display(Audio(audio_path))\n",
    "\n",
    "# 顯示 LLM 的解釋\n",
    "print(\"\\nLLM 解釋：\")\n",
    "print(results['explanation'])"
   ]
  }
 ],
 "metadata": {
  "kernelspec": {
   "display_name": "1125_env",
   "language": "python",
   "name": "python3"
  },
  "language_info": {
   "codemirror_mode": {
    "name": "ipython",
    "version": 3
   },
   "file_extension": ".py",
   "mimetype": "text/x-python",
   "name": "python",
   "nbconvert_exporter": "python",
   "pygments_lexer": "ipython3",
   "version": "3.11.9"
  }
 },
 "nbformat": 4,
 "nbformat_minor": 2
}
